{
 "cells": [
  {
   "cell_type": "code",
   "execution_count": 7,
   "id": "9ad0acf0-00d1-45a7-9672-11b317e87fc9",
   "metadata": {},
   "outputs": [
    {
     "data": {
      "text/plain": [
       "'Question 1.3. \\nname = [\"Mohan\", \"dash\", \"karam\", \"chandra\",\"gandhi\",\"Bapu\"] \\ndo the following operations in this list;\\n\\na) add an element \"freedom_fighter\" in this list at the Oth index. \\n\\nb) find the output of the following, and explain how? \\nname = [\"freedom Fighter\", \"Bapuji\", \"Mohan\" \"dash\", \"karam\", \"chandra\", \"gandhi\"] \\nLength1=len((name [-Len(name)+1:-1:2])) \\nLength2=Len((name [-Len (name)+1:-1])) print(length1+Length2) \\nc) add two more elements in the name [\"Netaji\",\"Bose\"] at the end of the list. \\nd) what will be the value of temp: \\nname = [\"Bapuji\", \"dash\", \"karam\", \"chandra\",\"gandi\", \"Mohan\"] \\ntemp=name[-1] \\nname[-1]=name[0] \\nname[0]=temp \\nprint(name) '"
      ]
     },
     "execution_count": 7,
     "metadata": {},
     "output_type": "execute_result"
    }
   ],
   "source": [
    "'''Question 1.3. \n",
    "name = [\"Mohan\", \"dash\", \"karam\", \"chandra\",\"gandhi\",\"Bapu\"] \n",
    "do the following operations in this list;\n",
    "\n",
    "a) add an element \"freedom_fighter\" in this list at the Oth index. \n",
    "\n",
    "b) find the output of the following, and explain how? \n",
    "name = [\"freedom Fighter\", \"Bapuji\", \"Mohan\" \"dash\", \"karam\", \"chandra\", \"gandhi\"] \n",
    "Length1=len((name [-Len(name)+1:-1:2])) \n",
    "Length2=Len((name [-Len (name)+1:-1])) print(length1+Length2) \n",
    "c) add two more elements in the name [\"Netaji\",\"Bose\"] at the end of the list. \n",
    "d) what will be the value of temp: \n",
    "name = [\"Bapuji\", \"dash\", \"karam\", \"chandra\",\"gandi\", \"Mohan\"] \n",
    "temp=name[-1] \n",
    "name[-1]=name[0] \n",
    "name[0]=temp \n",
    "print(name) '''\n"
   ]
  },
  {
   "cell_type": "code",
   "execution_count": 8,
   "id": "5318a497-38a9-426f-beaf-1345d5f9251a",
   "metadata": {},
   "outputs": [
    {
     "name": "stdout",
     "output_type": "stream",
     "text": [
      "['freedom_fighter', 'Mohan', 'dash', 'karam', 'chandra', 'gandhi', 'Bapu']\n"
     ]
    }
   ],
   "source": [
    "#a)\n",
    "name = [\"Mohan\", \"dash\", \"karam\", \"chandra\", \"gandhi\", \"Bapu\"]\n",
    "name.insert(0, \"freedom_fighter\")\n",
    "print(name)"
   ]
  },
  {
   "cell_type": "code",
   "execution_count": 10,
   "id": "1376709d-2de0-4fe1-8f44-26807348e7af",
   "metadata": {},
   "outputs": [
    {
     "name": "stdout",
     "output_type": "stream",
     "text": [
      "8\n"
     ]
    }
   ],
   "source": [
    "#b)\n",
    "name = [\"freedom Fighter\", \"Bapuji\", \"Mohan\", \"dash\", \"karam\", \"chandra\", \"gandhi\"]\n",
    "Length1 = len(name[-len(name) + 1:-1:2])\n",
    "Length2 = len(name[-len(name) + 1:-1])\n",
    "print(Length1 + Length2)"
   ]
  },
  {
   "cell_type": "code",
   "execution_count": 11,
   "id": "6ee4a85e-b49e-4774-98de-4d0b84613df8",
   "metadata": {},
   "outputs": [
    {
     "name": "stdout",
     "output_type": "stream",
     "text": [
      "['freedom Fighter', 'Bapuji', 'Mohan', 'dash', 'karam', 'chandra', 'gandhi', 'Netaji', 'Bose']\n"
     ]
    }
   ],
   "source": [
    "#c.)\n",
    "name.extend([\"Netaji\", \"Bose\"])\n",
    "print(name)"
   ]
  },
  {
   "cell_type": "code",
   "execution_count": 12,
   "id": "7864edd4-7a14-49fd-9dd3-07b77325673f",
   "metadata": {},
   "outputs": [
    {
     "name": "stdout",
     "output_type": "stream",
     "text": [
      "['Mohan', 'dash', 'karam', 'chandra', 'gandi', 'Bapuji']\n"
     ]
    }
   ],
   "source": [
    "#d.)\n",
    "name = [\"Bapuji\", \"dash\", \"karam\", \"chandra\", \"gandi\", \"Mohan\"]\n",
    "temp = name[-1]\n",
    "name[-1] = name[0]\n",
    "name[0] = temp\n",
    "print(name)"
   ]
  },
  {
   "cell_type": "code",
   "execution_count": 14,
   "id": "9910da4d-c84a-4850-ad1a-6911cdfcfedb",
   "metadata": {},
   "outputs": [
    {
     "data": {
      "text/plain": [
       "\"Question 1.4.Find the output of the following. \\nanimal = ['Human','cat','mat, cat, rat', 'Human', 'Lion'] \\nprint(animal.count('Human')) \\nprint(animal.index('rat')) \\nprint(len(animal)) \""
      ]
     },
     "execution_count": 14,
     "metadata": {},
     "output_type": "execute_result"
    }
   ],
   "source": [
    "'''Question 1.4.Find the output of the following. \n",
    "animal = ['Human','cat','mat, cat, rat', 'Human', 'Lion'] \n",
    "print(animal.count('Human')) \n",
    "print(animal.index('rat')) \n",
    "print(len(animal)) '''"
   ]
  },
  {
   "cell_type": "code",
   "execution_count": 16,
   "id": "bb7dea73-18e0-4f3d-87d8-bbe1df07e4ca",
   "metadata": {},
   "outputs": [
    {
     "name": "stdout",
     "output_type": "stream",
     "text": [
      "2\n",
      "4\n",
      "7\n"
     ]
    }
   ],
   "source": [
    "animal = ['Human','cat','mat', 'cat', 'rat', 'Human', 'Lion'] \n",
    "print(animal.count('Human')) \n",
    "print(animal.index('rat')) \n",
    "print(len(animal))"
   ]
  },
  {
   "cell_type": "code",
   "execution_count": 17,
   "id": "18de8e87-bc55-45fb-b54f-dc7b0db721f8",
   "metadata": {},
   "outputs": [
    {
     "data": {
      "text/plain": [
       "'Question 1.5. tuple1=(10,20,\"Apple\",3.4,\\'a\\', [\"master\", \"ji\"],(\"sita\",\"geeta\",22),[{\"roll_no\":1}, {\"name\":\"Navneet\"}]) \\na) print(len(tuple1)) \\nb) print(tuple1[-1][-1][\"name\"]) \\nc)fetch the value of roll_no from this tuple. \\nd) print(tuple1[-3][1]) \\ne)fetch the element \"22\" from this tuple. \\n'"
      ]
     },
     "execution_count": 17,
     "metadata": {},
     "output_type": "execute_result"
    }
   ],
   "source": [
    "'''Question 1.5. tuple1=(10,20,\"Apple\",3.4,'a', [\"master\", \"ji\"],(\"sita\",\"geeta\",22),[{\"roll_no\":1}, {\"name\":\"Navneet\"}]) \n",
    "a) print(len(tuple1)) \n",
    "b) print(tuple1[-1][-1][\"name\"]) \n",
    "c)fetch the value of roll_no from this tuple. \n",
    "d) print(tuple1[-3][1]) \n",
    "e)fetch the element \"22\" from this tuple. \n",
    "'''"
   ]
  },
  {
   "cell_type": "code",
   "execution_count": 22,
   "id": "7b7b3aee-b337-4792-9e78-51820fe100be",
   "metadata": {},
   "outputs": [
    {
     "name": "stdout",
     "output_type": "stream",
     "text": [
      "8\n"
     ]
    }
   ],
   "source": [
    "#a.)\n",
    "tuple1 = (10, 20, \"Apple\", 3.4, 'a', [\"master\", \"ji\"], (\"sita\", \"geeta\", 22), [{\"roll_no\": 1}, {\"name\": \"Navneet\"}])\n",
    "print(len(tuple1))\n"
   ]
  },
  {
   "cell_type": "code",
   "execution_count": 23,
   "id": "75ab31f8-8cf2-41fb-982d-4ed52c9538f4",
   "metadata": {},
   "outputs": [
    {
     "name": "stdout",
     "output_type": "stream",
     "text": [
      "Navneet\n"
     ]
    }
   ],
   "source": [
    "#b.)\n",
    "print(tuple1[-1][-1][\"name\"])"
   ]
  },
  {
   "cell_type": "code",
   "execution_count": 24,
   "id": "96472ba7-59f2-4659-82cd-bd4816419b84",
   "metadata": {},
   "outputs": [
    {
     "name": "stdout",
     "output_type": "stream",
     "text": [
      "1\n"
     ]
    }
   ],
   "source": [
    "#c.)\n",
    "roll_no = tuple1[-1][0][\"roll_no\"]\n",
    "print(roll_no)"
   ]
  },
  {
   "cell_type": "code",
   "execution_count": 25,
   "id": "82eed3b2-abed-41bc-b138-2f50b6d95720",
   "metadata": {},
   "outputs": [
    {
     "name": "stdout",
     "output_type": "stream",
     "text": [
      "ji\n"
     ]
    }
   ],
   "source": [
    "#4.\n",
    "print(tuple1[-3][1])"
   ]
  },
  {
   "cell_type": "code",
   "execution_count": 26,
   "id": "09523579-9df5-4ba9-9a94-01f664726b83",
   "metadata": {},
   "outputs": [
    {
     "name": "stdin",
     "output_type": "stream",
     "text": [
      "Enter the signal color (RED, YELLOW, or GREEN):  roh'\n"
     ]
    },
    {
     "name": "stdout",
     "output_type": "stream",
     "text": [
      "Invalid signal color.\n"
     ]
    }
   ],
   "source": [
    "#1.6. Write a program to display the appropriate message as per the color of signal (RED-Stop/Yellow-Stay/ Green-Go) at the road crossing.\n",
    "\n",
    "\n",
    "def traffic_light_message(signal_color):\n",
    "  if signal_color == \"RED\":\n",
    "    print(\"STOP\")\n",
    "  elif signal_color == \"YELLOW\":\n",
    "    print(\"STAY\")\n",
    "  elif signal_color == \"GREEN\":\n",
    "    print(\"GO\")\n",
    "  else:\n",
    "    print(\"Invalid signal color.\")\n",
    "\n",
    "signal_color = input(\"Enter the signal color (RED, YELLOW, or GREEN): \")\n",
    "traffic_light_message(signal_color)\n"
   ]
  },
  {
   "cell_type": "code",
   "execution_count": 27,
   "id": "fdccfbff-665e-4938-a170-fab9b29e3b83",
   "metadata": {},
   "outputs": [
    {
     "name": "stdin",
     "output_type": "stream",
     "text": [
      "Enter the first number:  3\n",
      "Enter the operator (+, -, *, /):  3\n",
      "Enter the second number:  4\n"
     ]
    },
    {
     "name": "stdout",
     "output_type": "stream",
     "text": [
      "Invalid operator.\n"
     ]
    }
   ],
   "source": [
    "#1.7. Write a program to create a simple calculator performing only four basic operations(+, -,/,*). \n",
    "def calculator():\n",
    "  num1 = float(input(\"Enter the first number: \"))\n",
    "  operator = input(\"Enter the operator (+, -, *, /): \")\n",
    "  num2 = float(input(\"Enter the second number: \"))\n",
    "\n",
    "  if operator == \"+\":\n",
    "    result = num1 + num2\n",
    "  elif operator == \"-\":\n",
    "    result = num1 - num2\n",
    "  elif operator == \"*\":\n",
    "    result = num1 * num2\n",
    "  elif operator == \"/\":\n",
    "    result = num1 / num2\n",
    "  else:\n",
    "    print(\"Invalid operator.\")\n",
    "    return\n",
    "\n",
    "  print(\"Result:\", result)\n",
    "calculator()\n"
   ]
  },
  {
   "cell_type": "code",
   "execution_count": 28,
   "id": "3522b654-13c2-417f-88ef-d23937db6ae6",
   "metadata": {},
   "outputs": [
    {
     "name": "stdin",
     "output_type": "stream",
     "text": [
      "Enter the first number:  3\n",
      "Enter the second number:  4\n",
      "Enter the third number:  5\n"
     ]
    },
    {
     "name": "stdout",
     "output_type": "stream",
     "text": [
      "The largest number is: 5.0\n"
     ]
    }
   ],
   "source": [
    "#1.8. Write a program to find the larger of the three pre-specified numbers using ternary operators. \n",
    "def find_largest(num1, num2, num3):\n",
    "  largest = num1 if num1 > num2 else num2\n",
    "  largest = largest if largest > num3 else num3\n",
    "  return largest\n",
    "\n",
    "num1 = float(input(\"Enter the first number: \"))\n",
    "num2 = float(input(\"Enter the second number: \"))\n",
    "num3 = float(input(\"Enter the third number: \"))\n",
    "\n",
    "largest_number = find_largest(num1, num2, num3)\n",
    "print(\"The largest number is:\", largest_number)\n"
   ]
  },
  {
   "cell_type": "code",
   "execution_count": 29,
   "id": "03b09e6b-19f4-49db-8e8a-52dd03d49fb4",
   "metadata": {},
   "outputs": [
    {
     "name": "stdin",
     "output_type": "stream",
     "text": [
      "Enter a whole number:  1\n"
     ]
    },
    {
     "name": "stdout",
     "output_type": "stream",
     "text": [
      "The factors of 1 are: [1]\n"
     ]
    }
   ],
   "source": [
    "#1.9. Write a program to find the factors of a whole number using a while loop. \n",
    "def find_factors(number):\n",
    "  factors = []\n",
    "  divisor = 1\n",
    "\n",
    "  while divisor <= number:\n",
    "    if number % divisor == 0:\n",
    "      factors.append(divisor)\n",
    "    divisor += 1\n",
    "\n",
    "  return factors\n",
    "\n",
    "number = int(input(\"Enter a whole number: \"))\n",
    "\n",
    "factors = find_factors(number)\n",
    "print(\"The factors of\", number, \"are:\", factors)\n"
   ]
  },
  {
   "cell_type": "code",
   "execution_count": 30,
   "id": "fdfbbcc7-903a-4ded-914e-d6ffdbcbb563",
   "metadata": {},
   "outputs": [
    {
     "name": "stdin",
     "output_type": "stream",
     "text": [
      "Enter a number (enter a negative number to stop):  2\n",
      "Enter a number (enter a negative number to stop):  3\n",
      "Enter a number (enter a negative number to stop):  4\n",
      "Enter a number (enter a negative number to stop):  4\n",
      "Enter a number (enter a negative number to stop):  2\n",
      "Enter a number (enter a negative number to stop):  2\n",
      "Enter a number (enter a negative number to stop):  -1\n"
     ]
    },
    {
     "name": "stdout",
     "output_type": "stream",
     "text": [
      "The sum of positive numbers is: 17\n"
     ]
    }
   ],
   "source": [
    "#1.10. Write a program to find the sum of all the positive numbers entered by the user. As soon as the user enters a negative number, stop taking in any further input from the user and display the sum.\n",
    "def sum_positive_numbers():\n",
    "  sum = 0\n",
    "  number = 0\n",
    "\n",
    "  while number >= 0:\n",
    "    number = int(input(\"Enter a number (enter a negative number to stop): \"))\n",
    "    if number >= 0:\n",
    "      sum += number\n",
    "\n",
    "  print(\"The sum of positive numbers is:\", sum)\n",
    "\n",
    "sum_positive_numbers()\n"
   ]
  },
  {
   "cell_type": "code",
   "execution_count": 31,
   "id": "d9e34863-f53b-40f5-b5c7-9b3452768914",
   "metadata": {},
   "outputs": [
    {
     "name": "stdout",
     "output_type": "stream",
     "text": [
      "Prime numbers between 2 and 100 are: [2, 3, 5, 7, 11, 13, 17, 19, 23, 29, 31, 37, 41, 43, 47, 53, 59, 61, 67, 71, 73, 79, 83, 89, 97]\n"
     ]
    }
   ],
   "source": [
    "#1.11. Write a program to find prime numbers between 2 to 100 using nested for loops.\n",
    "def find_prime_numbers(start, end):\n",
    "  prime_numbers = []\n",
    "\n",
    "  for num in range(start, end + 1):\n",
    "    if num > 1:\n",
    "      is_prime = True\n",
    "      for i in range(2, int(num**0.5) + 1):\n",
    "        if num % i == 0:\n",
    "          is_prime = False\n",
    "          break\n",
    "      if is_prime:\n",
    "        prime_numbers.append(num)\n",
    "\n",
    "  return prime_numbers\n",
    "\n",
    "start = 2\n",
    "end = 100\n",
    "\n",
    "prime_numbers = find_prime_numbers(start, end)\n",
    "print(\"Prime numbers between\", start, \"and\", end, \"are:\", prime_numbers)\n"
   ]
  },
  {
   "cell_type": "code",
   "execution_count": 32,
   "id": "bdf46339-7be7-401c-8a7a-444af35a7868",
   "metadata": {},
   "outputs": [
    {
     "name": "stdin",
     "output_type": "stream",
     "text": [
      "Enter marks for Subject 1:  2\n",
      "Enter marks for Subject 2:  3\n",
      "Enter marks for Subject 3:  4\n",
      "Enter marks for Subject 4:  4\n",
      "Enter marks for Subject 5:  5\n"
     ]
    },
    {
     "name": "stdout",
     "output_type": "stream",
     "text": [
      "Marks for each subject:\n",
      "Subject 1: 2\n",
      "Subject 2: 3\n",
      "Subject 3: 4\n",
      "Subject 4: 4\n",
      "Subject 5: 5\n",
      "Total marks: 18\n",
      "Percentage: 3.60%\n",
      "Grade: Reappear\n"
     ]
    }
   ],
   "source": [
    "'''1.12. Write the programs for the following: \n",
    "Accept the marks of the student in five major subjects and display the same. \n",
    "Calculate the sum of the marks of all subjects.Divide the total marks by number of subjects (i.e. 5), calculate percentage = total marks/5 and display the percentage. \n",
    "Find the grade of the student as per the following criteria.\n",
    "Sol:'''\n",
    "def calculate_grade(percentage):\n",
    "  if percentage > 85:\n",
    "    return \"A\"\n",
    "  elif 75 <= percentage <= 85:\n",
    "    return \"B\"\n",
    "  elif 50 <= percentage <= 74:\n",
    "    return \"C\"\n",
    "  elif 30 <= percentage <= 49:\n",
    "    return \"D\"\n",
    "  else:\n",
    "    return \"Reappear\"\n",
    "\n",
    "subjects = [\"Subject 1\", \"Subject 2\", \"Subject 3\", \"Subject 4\", \"Subject 5\"]\n",
    "marks = []\n",
    "\n",
    "for subject in subjects:\n",
    "  mark = int(input(f\"Enter marks for {subject}: \"))\n",
    "  marks.append(mark)\n",
    "\n",
    "total_marks = sum(marks)\n",
    "percentage = total_marks / len(marks)\n",
    "\n",
    "print(\"Marks for each subject:\")\n",
    "for i, subject in enumerate(subjects):\n",
    "  print(f\"{subject}: {marks[i]}\")\n",
    "\n",
    "print(f\"Total marks: {total_marks}\")\n",
    "print(f\"Percentage: {percentage:.2f}%\")\n",
    "\n",
    "grade = calculate_grade(percentage)\n",
    "print(f\"Grade: {grade}\")\n"
   ]
  },
  {
   "cell_type": "code",
   "execution_count": 33,
   "id": "e27e5931-473d-43d7-9f1b-c06df48dcaab",
   "metadata": {},
   "outputs": [
    {
     "name": "stdin",
     "output_type": "stream",
     "text": [
      "Enter the wavelength (in nm):  2\n"
     ]
    },
    {
     "name": "stdout",
     "output_type": "stream",
     "text": [
      "The color corresponding to the wavelength is: Wavelength out of VIBGYOR range\n"
     ]
    }
   ],
   "source": [
    "'''1.13 Write a program for VIBGYOR Spectrum based on their Wavelength using. Wavelength Range:'''\n",
    "def identify_color(wavelength):\n",
    "  if 400 <= wavelength <= 440:\n",
    "    return \"Violet\"\n",
    "  elif 440 <= wavelength <= 460:\n",
    "    return \"Indigo\"\n",
    "  elif 460 <= wavelength <= 500:\n",
    "    return \"Blue\"\n",
    "  elif 500 <= wavelength <= 570:\n",
    "    return \"Green\"\n",
    "  elif 570 <= wavelength <= 590:\n",
    "    return \"Yellow\"\n",
    "  elif 590 <= wavelength <= 620:\n",
    "    return \"Orange\"\n",
    "  elif 620 <= wavelength <= 720:\n",
    "    return \"Red\"\n",
    "  else:\n",
    "    return \"Wavelength out of VIBGYOR range\"\n",
    "\n",
    "wavelength = float(input(\"Enter the wavelength (in nm): \"))\n",
    "\n",
    "color = identify_color(wavelength)\n",
    "print(\"The color corresponding to the wavelength is:\", color)\n"
   ]
  },
  {
   "cell_type": "code",
   "execution_count": 34,
   "id": "bce15450-bab8-46c2-aeae-2cb0eb86ee94",
   "metadata": {},
   "outputs": [
    {
     "name": "stdout",
     "output_type": "stream",
     "text": [
      "The gravitational force between the Earth and the Sun is stronger.\n",
      "The Earth is more attracted to the Sun.\n"
     ]
    }
   ],
   "source": [
    "#1.14 Answer\n",
    "import math\n",
    "\n",
    "# Gravitational constant\n",
    "G = 6.67430e-11\n",
    "\n",
    "# Given masses and distances\n",
    "mass_earth = 5.972e24\n",
    "mass_moon = 7.34767309e22\n",
    "mass_sun = 1.989e30\n",
    "\n",
    "distance_earth_sun = 1.496e11\n",
    "distance_moon_earth = 3.844e8\n",
    "\n",
    "# Calculate gravitational force between Earth and Sun\n",
    "force_earth_sun = G * mass_earth * mass_sun / (distance_earth_sun ** 2)\n",
    "\n",
    "# Calculate gravitational force between Moon and Earth\n",
    "force_moon_earth = G * mass_moon * mass_earth / (distance_moon_earth ** 2)\n",
    "\n",
    "# Compare the forces\n",
    "if force_earth_sun > force_moon_earth:\n",
    "    print(\"The gravitational force between the Earth and the Sun is stronger.\")\n",
    "    print(\"The Earth is more attracted to the Sun.\")\n",
    "elif force_earth_sun < force_moon_earth:\n",
    "    print(\"The gravitational force between the Moon and the Earth is stronger.\")\n",
    "    print(\"The Moon is more attracted to the Earth.\")\n",
    "else:\n",
    "    print(\"The gravitational forces are equal.\")\n"
   ]
  },
  {
   "cell_type": "code",
   "execution_count": 35,
   "id": "9cc1d764-4116-439c-b184-d76bf82e864a",
   "metadata": {},
   "outputs": [
    {
     "name": "stdout",
     "output_type": "stream",
     "text": [
      "Name: Alice\n",
      "Age: 20\n",
      "Roll Number: 101\n",
      "Name: Bob\n",
      "Age: 22\n",
      "Roll Number: 102\n",
      "Name: Alice Smith\n",
      "Age: 21\n",
      "Roll Number: 103\n"
     ]
    }
   ],
   "source": [
    "'''2. Design and implement a Python program for managing student information using object-oriented principles. Create a class called `Student` with encapsulated attributes for name, age, and roll number. Implement getter and setter methods for these attributes. Additionally, provide methods to display student information and update student details. \n",
    "Tasks: \n",
    "• Define the `Student class with encapsulated attributes. \n",
    "• Implement getter and setter methods for the attributes. \n",
    "• Write methods to display student information and update details. \n",
    "• Create instances of the `Student class and test the implemented functionality.\n",
    "Soln;'''\n",
    "class Student:\n",
    "    def __init__(self, name, age, roll_number):\n",
    "        self.__name = name\n",
    "        self.__age = age\n",
    "        self.__roll_number = roll_number\n",
    "\n",
    "    def get_name(self):\n",
    "        return self.__name\n",
    "\n",
    "    def set_name(self, name):\n",
    "        self.__name = name\n",
    "\n",
    "    def get_age(self):\n",
    "        return self.__age\n",
    "\n",
    "    def set_age(self, age):\n",
    "        self.__age = age\n",
    "\n",
    "    def get_roll_number(self):\n",
    "        return self.__roll_number\n",
    "\n",
    "    def set_roll_number(self, roll_number):\n",
    "        self.__roll_number = roll_number\n",
    "\n",
    "    def display_info(self):\n",
    "        print(\"Name:\", self.get_name())\n",
    "        print(\"Age:\", self.get_age())\n",
    "        print(\"Roll Number:\", self.get_roll_number())\n",
    "\n",
    "    def update_details(self, new_name, new_age, new_roll_number):\n",
    "        self.set_name(new_name)\n",
    "        self.set_age(new_age)\n",
    "        self.set_roll_number(new_roll_number)\n",
    "\n",
    "# Create instances of the Student class\n",
    "student1 = Student(\"Alice\", 20, 101)\n",
    "student2 = Student(\"Bob\", 22, 102)\n",
    "\n",
    "# Display student information\n",
    "student1.display_info()\n",
    "student2.display_info()\n",
    "\n",
    "# Update student details\n",
    "student1.update_details(\"Alice Smith\", 21, 103)\n",
    "\n",
    "# Display updated student information\n",
    "student1.display_info()\n",
    "\n"
   ]
  },
  {
   "cell_type": "code",
   "execution_count": 36,
   "id": "0a99d1ca-768d-49ab-884a-0e9313fb78b5",
   "metadata": {},
   "outputs": [
    {
     "name": "stdout",
     "output_type": "stream",
     "text": [
      "Python Crash Course has been borrowed.\n",
      "Python Crash Course is currently unavailable.\n",
      "Python Crash Course has been returned.\n",
      "Automate the Boring Stuff with Python has been borrowed.\n",
      "Automate the Boring Stuff with Python has been returned.\n"
     ]
    }
   ],
   "source": [
    "'''3.Develop a Python program for managing library resources efficiently. Design a class named `LibraryBook` with attributes like book name, author, and availability status. Implement methods for borrowing and returning books while ensuring proper encapsulation of attributes. \n",
    "Tasks: \n",
    ". \n",
    "⚫ 1. Create the `LibraryBook class with encapsulated attributes. \n",
    "2. Implement methods for borrowing and returning books. \n",
    "⚫ 3. Ensure proper encapsulation to protect book details. \n",
    "• 4. Test the borrowing and returning functionality with sample data.\n",
    "Soln: '''\n",
    "class LibraryBook:\n",
    "    def __init__(self, book_name, author):\n",
    "        self.__book_name = book_name\n",
    "        self.__author = author\n",
    "        self.__available = True\n",
    "\n",
    "    def get_book_name(self):\n",
    "        return self.__book_name\n",
    "\n",
    "    def get_author(self):\n",
    "        return self.__author\n",
    "\n",
    "    def is_available(self):\n",
    "        return self.__available\n",
    "\n",
    "    def borrow_book(self):\n",
    "        if self.__available:\n",
    "            self.__available = False\n",
    "            print(f\"{self.__book_name} has been borrowed.\")\n",
    "        else:\n",
    "            print(f\"{self.__book_name} is currently unavailable.\")\n",
    "\n",
    "    def return_book(self):\n",
    "        if not self.__available:\n",
    "            self.__available = True\n",
    "            print(f\"{self.__book_name} has been returned.\")\n",
    "        else:\n",
    "            print(f\"{self.__book_name} is already available.\")\n",
    "\n",
    "# Create sample books\n",
    "book1 = LibraryBook(\"Python Crash Course\", \"Eric Matthes\")\n",
    "book2 = LibraryBook(\"Automate the Boring Stuff with Python\", \"Al Sweigart\")\n",
    "\n",
    "# Borrow and return books\n",
    "book1.borrow_book()\n",
    "book1.borrow_book()\n",
    "book1.return_book()\n",
    "book2.borrow_book()\n",
    "book2.return_book()\n"
   ]
  },
  {
   "cell_type": "code",
   "execution_count": 37,
   "id": "6c7fd702-a131-401f-bb62-c1c09c41086b",
   "metadata": {},
   "outputs": [
    {
     "name": "stdout",
     "output_type": "stream",
     "text": [
      "Your current balance is: 1300\n",
      "Your current balance is: 300\n"
     ]
    }
   ],
   "source": [
    "'''4.Create a simple banking system using object-oriented concepts in Python. Design classes representing different types of bank accounts such as savings and checking. Implement methods for deposit, withdraw, and balance inquiry. Utilize inheritance to manage different account types efficiently. \n",
    "\n",
    "• 1. Define base class(es) for bank accounts with common attributes and methods. \n",
    "⚫ 2. Implement subclasses for specific account types (e.g., Savings Account, CheckingAccount). \n",
    "⚫ 3. Provide methods for deposit, withdraw, and balance inquiry in each subclass. \n",
    "⚫ 4. Test the banking system by creating instances of different account types and performing transactions.\n",
    "\n",
    "Soln  '''\n",
    "class BankAccount:\n",
    "\n",
    "    def __init__(self, account_number, balance=0):\n",
    "        self.account_number = account_number\n",
    "        self.balance = balance\n",
    "\n",
    "    def deposit(self, amount):\n",
    "        if amount > 0:\n",
    "            self.balance += amount\n",
    "        else:\n",
    "            print(\"Invalid deposit amount.\")\n",
    "\n",
    "    def withdraw(self, amount):\n",
    "        if amount > 0 and amount <= self.balance:\n",
    "            self.balance -= amount\n",
    "        else:\n",
    "            print(\"Insufficient funds or invalid withdrawal amount.\")\n",
    "\n",
    "    def balance_inquiry(self):\n",
    "        print(f\"Your current balance is: {self.balance}\")\n",
    "\n",
    "\n",
    "class SavingsAccount(BankAccount):\n",
    "\n",
    "    def __init__(self, account_number, balance=0, interest_rate=0.03):\n",
    "        super().__init__(account_number, balance)\n",
    "        self.interest_rate = interest_rate\n",
    "\n",
    "    def calculate_interest(self):\n",
    "        interest = self.balance * self.interest_rate\n",
    "        self.balance += interest\n",
    "\n",
    "\n",
    "class CheckingAccount(BankAccount):\n",
    "\n",
    "    def __init__(self, account_number, balance=0, overdraft_limit=1000):\n",
    "        super().__init__(account_number, balance)\n",
    "        self.overdraft_limit = overdraft_limit\n",
    "\n",
    "    def withdraw(self, amount):\n",
    "        if amount > 0 and amount <= (self.balance + self.overdraft_limit):\n",
    "            self.balance -= amount\n",
    "        else:\n",
    "            print(\"Insufficient funds or invalid withdrawal amount.\")\n",
    "\n",
    "\n",
    "# Test the banking system\n",
    "savings_account = SavingsAccount(\"SA123\", 1000)\n",
    "checking_account = CheckingAccount(\"CA456\", 500)\n",
    "\n",
    "savings_account.deposit(500)\n",
    "savings_account.withdraw(200)\n",
    "savings_account.balance_inquiry()\n",
    "savings_account.calculate_interest()\n",
    "\n",
    "checking_account.deposit(1000)\n",
    "checking_account.withdraw(1200)\n",
    "checking_account.balance_inquiry()\n",
    "\n"
   ]
  },
  {
   "cell_type": "code",
   "execution_count": 38,
   "id": "e3768f59-f7ba-4484-ab38-f745c8647390",
   "metadata": {},
   "outputs": [
    {
     "name": "stdout",
     "output_type": "stream",
     "text": [
      "Woof!\n",
      "Meow!\n"
     ]
    }
   ],
   "source": [
    "'''5. Write a Python program that models different animals and their sounds. Design a base class called `Animal` with a method `make_sound(). Create subclasses like `Dog` and `Cat` that override the `make_sound()` method to produce appropriate sounds. \n",
    "Tasks: \n",
    "⚫ 1. Define the `Animal' class with a method `make_sound()`. \n",
    "• 2. Create subclasses Dog and Cat that override the `make_sound() method. \n",
    "⚫ 3. Implement the sound generation logic for each subclass. \n",
    "⚫ 4. Test the program by creating instances of `Dog and Cat and calling the `make_sound()` method.'''\n",
    "class Animal:\n",
    "    def make_sound(self):\n",
    "        print(\"Generic animal sound\")\n",
    "\n",
    "class Dog(Animal):\n",
    "    def make_sound(self):\n",
    "        print(\"Woof!\")\n",
    "\n",
    "class Cat(Animal):\n",
    "    def make_sound(self):\n",
    "        print(\"Meow!\")\n",
    "\n",
    "# Test the program\n",
    "dog = Dog()\n",
    "cat = Cat()\n",
    "\n",
    "dog.make_sound()\n",
    "cat.make_sound()\n",
    "\n"
   ]
  },
  {
   "cell_type": "code",
   "execution_count": 43,
   "id": "3a3c6ffe-d76d-4fa8-a738-3cdb8e3a942f",
   "metadata": {},
   "outputs": [
    {
     "name": "stdout",
     "output_type": "stream",
     "text": [
      "ID: 2452809406928, Name: Margherita Pizza, Price: 10.99, Category: Main Course, Cuisine: Italian\n",
      "ID: 2452809328272, Name: Coca-Cola, Price: 2.5, Category: Beverages, Size: Large\n"
     ]
    }
   ],
   "source": [
    "'''6. Write a code for Restaurant Management System Using OOPS: \n",
    "• Create a Menultem class that has attributes such as name, description, price, and category. \n",
    "\tImplement methods to add a new menu item, update menu item information, and remove a menu item from the menu. \n",
    "• Use encapsulation to hide the menu item's unique identification number. \n",
    "• Inherit from the Menultem class to create a FoodItem class and a Beverageltem class, each with their own specific attributes and methods'''\n",
    "class MenuItem:\n",
    "    def __init__(self, name, description, price, category):\n",
    "        self.__id = id(self)  # Unique identifier\n",
    "        self.name = name\n",
    "        self.description = description\n",
    "        self.price = price\n",
    "        self.category = category\n",
    "\n",
    "    def get_id(self):\n",
    "        return self.__id\n",
    "\n",
    "    def update_info(self, new_name, new_description, new_price, new_category):\n",
    "        self.name = new_name\n",
    "        self.description = new_description\n",
    "        self.price = new_price\n",
    "        self.category = new_category\n",
    "\n",
    "    def __str__(self):\n",
    "        return f\"ID: {self.get_id()}, Name: {self.name}, Price: {self.price}, Category: {self.category}\"\n",
    "\n",
    "class FoodItem(MenuItem):\n",
    "    def __init__(self, name, description, price, category, cuisine):\n",
    "        super().__init__(name, description, price, category)\n",
    "        self.cuisine = cuisine\n",
    "\n",
    "    def __str__(self):\n",
    "        return super().__str__() + f\", Cuisine: {self.cuisine}\"\n",
    "\n",
    "class BeverageItem(MenuItem):\n",
    "    def __init__(self, name, description, price, category, size):\n",
    "        super().__init__(name, description, price, category)\n",
    "        self.size = size\n",
    "\n",
    "    def __str__(self):\n",
    "        return super().__str__() + f\", Size: {self.size}\"\n",
    "\n",
    "# Create menu items\n",
    "pizza = FoodItem(\"Pepperoni Pizza\", \"Delicious pizza with pepperoni\", 12.99, \"Main Course\", \"Italian\")\n",
    "soda = BeverageItem(\"Coca-Cola\", \"Refreshing soda\", 2.50, \"Beverages\", \"Large\")\n",
    "\n",
    "# Update pizza information\n",
    "pizza.update_info(\"Margherita Pizza\", \"Tomato sauce and mozzarella\", 10.99, \"Main Course\")\n",
    "\n",
    "# Print menu items\n",
    "print(pizza)\n",
    "print(soda)"
   ]
  },
  {
   "cell_type": "code",
   "execution_count": 48,
   "id": "ce139dc4-ccf7-47c9-8af3-43fe6aa79a9b",
   "metadata": {},
   "outputs": [],
   "source": [
    "'''7.Write a code for Hotel Management System using OOPS: \n",
    "• Create a Room class that has attributes such as room number, room type, rate, and availability (private). \n",
    "• Implement methods to book a room, check in a guest, and check out a guest. \n",
    "• Use encapsulation to hide the room's unique identification number. \n",
    "• Inherit from the Room class to create a SuiteRoom class and a Standard Room class, each with their own specific attributes and methods. '''\n",
    "\n",
    "class Room:\n",
    "    def __init__(self, room_number, room_type, rate):\n",
    "        self.__id = id(self)\n",
    "        self.room_number = room_number\n",
    "        self.room_type = room_type\n",
    "        self.rate = rate\n",
    "        self.__availability = True\n",
    "\n",
    "    def get_id(self):\n",
    "        return self.__id\n",
    "\n",
    "    def book_room(self):\n",
    "        if self.__availability:\n",
    "            self.__availability = False\n",
    "            print(f\"Room {self.room_number} booked successfully.\")\n",
    "        else:\n",
    "            print(\"Room is already booked.\")\n",
    "\n",
    "    def check_in_guest(self, guest_name):\n",
    "        if not self.__availability:\n",
    "            print(f\"Guest {guest_name} checked in to Room {self.room_number}.\")\n",
    "        else:\n",
    "            print(\"Room is not booked.\")\n",
    "\n",
    "    def check_out_guest(self):\n",
    "        if not self.__availability:\n",
    "            self.__availability = True\n",
    "            print(f\"Room {self.room_number} checked out successfully.\")\n",
    "        else:\n",
    "            print(\"Room is not occupied.\")\n",
    "\n",
    "class SuiteRoom(Room):\n",
    "    def __init__(self, room_number, rate):\n",
    "        super().__init__(room_number, \"Suite\", rate)\n",
    "\n",
    "class StandardRoom(Room):\n",
    "    def __init__(self, room_number, rate):\n",
    "        super().__init__(room_number, \"Standard\", rate)\n"
   ]
  },
  {
   "cell_type": "code",
   "execution_count": 52,
   "id": "1d5bdc96-1dc2-49a1-b917-efd0704ef49e",
   "metadata": {},
   "outputs": [],
   "source": [
    "'''8.Write a code for Fitness Club Management System using OOPS: \n",
    "• Create a Member class that has attributes such as name, age, membership type, and membership status (private). \n",
    "Implement methods to register a new member, renew a membership, and cancel a membership. \n",
    "• Use encapsulation to hide the member's unique identification number. \n",
    "\t• Inherit from the Member class to create a FamilyMember class and an IndividualMember class, each with their own specific attributes and methods. '''\n",
    "class Member:\n",
    "    def __init__(self, name, age, membership_type):\n",
    "        self.__id = id(self)\n",
    "        self.name = name\n",
    "        self.age = age\n",
    "        self.membership_type = membership_type\n",
    "        self.__membership_status = True\n",
    "\n",
    "    def get_id(self):\n",
    "        return self.__id\n",
    "\n",
    "    def register_member(self):\n",
    "        if self.__membership_status:\n",
    "            print(f\"Member {self.name} registered successfully.\")\n",
    "        else:\n",
    "            print(\"Membership is already active.\")\n",
    "\n",
    "    def renew_membership(self):\n",
    "        if self.__membership_status:\n",
    "            print(f\"Membership for {self.name} renewed successfully.\")\n",
    "        else:\n",
    "            print(\"Membership is already active.\")\n",
    "\n",
    "    def cancel_membership(self):\n",
    "        if self.__membership_status:\n",
    "            self.__membership_status = False\n",
    "            print(f\"Membership for {self.name} canceled successfully.\")\n",
    "        else:\n",
    "            print(\"Membership is already canceled.\")\n",
    "\n",
    "class FamilyMember(Member):\n",
    "    def __init__(self, name, age, membership_type, family_members):\n",
    "        super().__init__(name, age, membership_type)\n",
    "        self.family_members = family_members\n",
    "\n",
    "class IndividualMember(Member):\n",
    "    def __init__(self, name, age, membership_type):\n",
    "        super().__init__(name, age, membership_type)"
   ]
  },
  {
   "cell_type": "code",
   "execution_count": 53,
   "id": "c690ee50-4968-472d-b472-c8c6f85429d4",
   "metadata": {},
   "outputs": [],
   "source": [
    "'''9. Write a code for Event Management System using OOPS: \n",
    "• Create an Event class that has attributes such as name, date, time, location, and list of attendees (private). \n",
    "• Implement methods to create a new event, add or remove attendees, and get the total number of attendees. \n",
    "• Use encapsulation to hide the event's unique identification number. \n",
    "• Inherit from the Event class to create a PrivateEvent class and a PublicEvent class, each with their own \n",
    "specific attributes and methods. '''\n",
    "\n",
    "class Event:\n",
    "    def __init__(self, name, date, time, location):\n",
    "        self.__id = id(self)\n",
    "        self.name = name\n",
    "        self.date = date\n",
    "        self.time = time\n",
    "        self.location = location\n",
    "        self.__attendees = []\n",
    "\n",
    "    def get_id(self):\n",
    "        return self.__id\n",
    "\n",
    "    def create_event(self):\n",
    "        print(f\"Event {self.name} created successfully.\")\n",
    "\n",
    "    def add_attendee(self, attendee):\n",
    "        self.__attendees.append(attendee)\n",
    "        print(f\"{attendee} added to event {self.name}.\")\n",
    "\n",
    "    def remove_attendee(self, attendee):\n",
    "        if attendee in self.__attendees:\n",
    "            self.__attendees.remove(attendee)\n",
    "            print(f\"{attendee} removed from event {self.name}.\")\n",
    "        else:\n",
    "            print(f\"{attendee} is not attending the event.\")\n",
    "\n",
    "    def get_total_attendees(self):\n",
    "        return len(self.__attendees)\n",
    "\n",
    "class PrivateEvent(Event):\n",
    "    def __init__(self, name, date, time, location, invitees):\n",
    "        super().__init__(name, date, time, location)\n",
    "        self.invitees = invitees\n",
    "\n",
    "class PublicEvent(Event):\n",
    "    def __init__(self, name, date, time, location):\n",
    "        super().__init__(name, date, time, location)"
   ]
  },
  {
   "cell_type": "code",
   "execution_count": 54,
   "id": "20214af2-7cd6-4c28-a31b-555af1c2027f",
   "metadata": {},
   "outputs": [],
   "source": [
    "'''10. Write a code for Airline Reservation System using OOPS: \n",
    "• Create a Flight class that has attributes such as flight number, departure and arrival airports, departure and arrival times, and available seats (private). \n",
    "Implement methods to book a seat, cancel a reservation, and get the remaining available seats. \n",
    "• Use encapsulation to hide the flight's unique identification number. \n",
    "• Inherit from the Flight class to create a Domestic Flight class and an InternationalFlight class, each with their own specific attributes and methods. '''\n",
    "\n",
    "class Flight:\n",
    "    def __init__(self, flight_number, departure_airport, arrival_airport, departure_time, arrival_time):\n",
    "        self.__id = id(self)\n",
    "        self.flight_number = flight_number\n",
    "        self.departure_airport = departure_airport\n",
    "        self.arrival_airport = arrival_airport\n",
    "        self.departure_time = departure_time\n",
    "        self.arrival_time = arrival_time\n",
    "        self.__available_seats = 100\n",
    "\n",
    "    def get_id(self):\n",
    "        return self.__id\n",
    "\n",
    "    def book_seat(self):\n",
    "        if self.__available_seats > 0:\n",
    "            self.__available_seats -= 1\n",
    "            print(f\"Seat booked successfully for Flight {self.flight_number}.\")\n",
    "        else:\n",
    "            print(\"Flight is fully booked.\")\n",
    "\n",
    "    def cancel_reservation(self):\n",
    "        if self.__available_seats < 100:\n",
    "            self.__available_seats += 1\n",
    "            print(f\"Reservation canceled for Flight {self.flight_number}.\")\n",
    "        else:\n",
    "            print(\"Flight is already empty.\")\n",
    "\n",
    "    def get_remaining_seats(self):\n",
    "        return self.__available_seats\n",
    "\n",
    "class DomesticFlight(Flight):\n",
    "    def __init__(self, flight_number, departure_airport, arrival_airport, departure_time, arrival_time):\n",
    "        super().__init__(flight_number, departure_airport, arrival_airport, departure_time, arrival_time)\n",
    "\n",
    "class InternationalFlight(Flight):\n",
    "    def __init__(self, flight_number, departure_airport, arrival_airport, departure_time, arrival_time, visa_required):\n",
    "        super().__init__(flight_number, departure_airport, arrival_airport, departure_time, arrival_time)\n",
    "        self.visa_required = visa_required"
   ]
  },
  {
   "cell_type": "code",
   "execution_count": 65,
   "id": "5d47b401-29a7-4478-bec9-9f37ab42b49b",
   "metadata": {},
   "outputs": [
    {
     "data": {
      "text/plain": [
       "'11. Define a Python module named constants.py containing constants like pi and the speed of light. '"
      ]
     },
     "execution_count": 65,
     "metadata": {},
     "output_type": "execute_result"
    }
   ],
   "source": [
    "'''11. Define a Python module named constants.py containing constants like pi and the speed of light. '''\n"
   ]
  },
  {
   "cell_type": "code",
   "execution_count": 67,
   "id": "449e4cec-76bc-42da-b6c2-afff9d8f3c91",
   "metadata": {},
   "outputs": [],
   "source": [
    "PI = 3.14159\n",
    "SPEED_OF_LIGHT = 299792458  # meters per second"
   ]
  },
  {
   "cell_type": "code",
   "execution_count": 68,
   "id": "83bb4911-a867-4336-b01b-124fea16cb47",
   "metadata": {},
   "outputs": [],
   "source": [
    "'''12. Write a Python module named calculator.py containing functions for addition, subtraction, multiplication, and division. '''\n",
    "def add(x, y):\n",
    "  \"\"\"Adds two numbers.\"\"\"\n",
    "  return x + y\n",
    "\n",
    "def subtract(x, y):\n",
    "  \"\"\"Subtracts two numbers.\"\"\"\n",
    "  return x - y\n",
    "\n",
    "def multiply(x, y):\n",
    "  \"\"\"Multiplies two numbers.\"\"\"\n",
    "  return x * y\n",
    "\n",
    "def divide(x, y):\n",
    "  \"\"\"Divides two numbers (handles division by zero).\"\"\"\n",
    "  if y == 0:\n",
    "    return \"Division by zero is not allowed.\"\n",
    "  else:\n",
    "    return x / y"
   ]
  },
  {
   "cell_type": "code",
   "execution_count": 57,
   "id": "a88f5ceb-1c5a-40fd-8213-aa2f1c20afdf",
   "metadata": {},
   "outputs": [
    {
     "data": {
      "text/plain": [
       "'13. Implement a Python package structure for a project named ecommerce, containing modules for product management and order processing. '"
      ]
     },
     "execution_count": 57,
     "metadata": {},
     "output_type": "execute_result"
    }
   ],
   "source": [
    "'''13. Implement a Python package structure for a project named ecommerce, containing modules for product management and order processing. '''\n"
   ]
  },
  {
   "cell_type": "code",
   "execution_count": 69,
   "id": "bc95d823-ad08-465c-b7ff-65a658a87c5e",
   "metadata": {},
   "outputs": [],
   "source": [
    "'''14. Implement a Python module named string_utils.py containing functions for string manipulation, such as reversing and capitalizing strings. '''\n",
    "def reverse_string(text):\n",
    "  \"\"\"Reverses a string.\"\"\"\n",
    "  return text[::-1]\n",
    "\n",
    "def capitalize_string(text):\n",
    "  \"\"\"Capitalizes the first letter of a string.\"\"\"\n",
    "  return text.capitalize()"
   ]
  },
  {
   "cell_type": "code",
   "execution_count": 70,
   "id": "df1fd7dc-8e61-49c0-a636-0f7dc738131f",
   "metadata": {},
   "outputs": [],
   "source": [
    "'''15. Write a Python module named file_operations.py with functions for reading, writing, and appending data to a file. '''\n",
    "def read_file(filename):\n",
    "  \"\"\"Reads the contents of a file and returns them as a string.\"\"\"\n",
    "  with open(filename, 'r') as f:\n",
    "    content = f.read()\n",
    "  return content\n",
    "\n",
    "def write_file(filename, content):\n",
    "  \"\"\"Writes content to a file.\"\"\"\n",
    "  with open(filename, 'w') as f:\n",
    "    f.write(content)\n",
    "\n",
    "def append_to_file(filename, content):\n",
    "  \"\"\"Appends content to a file.\"\"\"\n",
    "  with open(filename, 'a') as f:\n",
    "    f.write(content)"
   ]
  },
  {
   "cell_type": "code",
   "execution_count": 71,
   "id": "336182d1-9212-4b95-bfa4-96b2b0cdd6dc",
   "metadata": {},
   "outputs": [],
   "source": [
    "'''16. Write a Python program to create a text file named \"employees.txt\" and write the details of employees, including their name, age, and salary, into the file. '''\n",
    "def write_employee_data(filename):\n",
    "  \"\"\"Writes employee data to a file.\"\"\"\n",
    "  employee_list = [\n",
    "    {\"name\": \"John Doe\", \"age\": 30, \"salary\": 50000},\n",
    "    {\"name\": \"Jane Smith\", \"age\": 25, \"salary\": 45000},\n",
    "  ]\n",
    "  with open(filename, 'w') as f:\n",
    "    for employee in employee_list:\n",
    "      data = f\"{employee['name']},{employee['age']},{employee['salary']}\\n\"\n",
    "      f.write(data)\n",
    "\n",
    "write_employee_data(\"employees.txt\")"
   ]
  },
  {
   "cell_type": "code",
   "execution_count": 73,
   "id": "a4f1c388-8d49-438e-831f-a7b1788959b7",
   "metadata": {},
   "outputs": [
    {
     "data": {
      "text/plain": [
       "'def read_inventory(filename):\\n\\n  with open(filename, \\'r\\') as f:\\n    for line in f:\\n      print(line.strip())\\n\\nread_inventory(\"inventory.txt\")'"
      ]
     },
     "execution_count": 73,
     "metadata": {},
     "output_type": "execute_result"
    }
   ],
   "source": [
    "'''17. Develop a Python script that opens an existing text file named \"inventory.txt\" in read mode and displays the contents of the file line by line. '''\n",
    "'''def read_inventory(filename):\n",
    "\n",
    "  with open(filename, 'r') as f:\n",
    "    for line in f:\n",
    "      print(line.strip())\n",
    "\n",
    "read_inventory(\"inventory.txt\")'''"
   ]
  },
  {
   "cell_type": "code",
   "execution_count": 76,
   "id": "c9103c56-f1e4-41da-86a5-31bd458c010f",
   "metadata": {},
   "outputs": [
    {
     "data": {
      "text/plain": [
       "'def calculate_total_expenses(filename):\\n  \"\"\"Calculates the total amount spent from an expense file.\"\"\"\\n  total = 0\\n  with open(filename, \\'r\\') as f:\\n    for line in f:\\n      amount = float(line.strip())  # Assuming amounts are numerical\\n      total += amount\\n  return total\\n\\ntotal_expenses = calculate_total_expenses(\"expenses.txt\")\\nprint(f\"Total expenses: {total_expenses}\") '"
      ]
     },
     "execution_count": 76,
     "metadata": {},
     "output_type": "execute_result"
    }
   ],
   "source": [
    "'''18. Create a Python script that reads a text file named \"expenses.txt\" and calculates the total amount spent on various expenses listed in the file. '''\n",
    "'''def calculate_total_expenses(filename):\n",
    "  \"\"\"Calculates the total amount spent from an expense file.\"\"\"\n",
    "  total = 0\n",
    "  with open(filename, 'r') as f:\n",
    "    for line in f:\n",
    "      amount = float(line.strip())  # Assuming amounts are numerical\n",
    "      total += amount\n",
    "  return total\n",
    "\n",
    "total_expenses = calculate_total_expenses(\"expenses.txt\")\n",
    "print(f\"Total expenses: {total_expenses}\") '''"
   ]
  },
  {
   "cell_type": "code",
   "execution_count": 78,
   "id": "ddbaf133-9a7d-44b4-87ac-0064299f59b3",
   "metadata": {},
   "outputs": [
    {
     "data": {
      "text/plain": [
       "'def count_word_occurrences(filename):\\n  \"\"\"Counts the occurrences of each word in a text file and displays them alphabetically.\"\"\"\\n  word_counts = {}\\n  with open(filename, \\'r\\') as f:\\n    for line in f:\\n      words = line.strip().lower().split()  # Lowercase and split into words\\n      for word in words:\\n        if word in word_counts:\\n          word_counts[word] += 1\\n        else:\\n          word_counts[word] = 1\\n  sorted_words = sorted(word_counts.items())\\n  for word, count in sorted_words:\\n    print(f\"{word}: {count}\")\\n\\ncount_word_occurrences(\"paragraph.txt\")'"
      ]
     },
     "execution_count": 78,
     "metadata": {},
     "output_type": "execute_result"
    }
   ],
   "source": [
    "'''19. Create a Python program that reads a text file named \"paragraph.txt\" and counts the occurrences of each word in the paragraph, displaying the results in alphabetical order. '''\n",
    "'''def count_word_occurrences(filename):\n",
    "  \"\"\"Counts the occurrences of each word in a text file and displays them alphabetically.\"\"\"\n",
    "  word_counts = {}\n",
    "  with open(filename, 'r') as f:\n",
    "    for line in f:\n",
    "      words = line.strip().lower().split()  # Lowercase and split into words\n",
    "      for word in words:\n",
    "        if word in word_counts:\n",
    "          word_counts[word] += 1\n",
    "        else:\n",
    "          word_counts[word] = 1\n",
    "  sorted_words = sorted(word_counts.items())\n",
    "  for word, count in sorted_words:\n",
    "    print(f\"{word}: {count}\")\n",
    "\n",
    "count_word_occurrences(\"paragraph.txt\")'''"
   ]
  },
  {
   "cell_type": "code",
   "execution_count": 80,
   "id": "662371e3-efa4-42cb-915b-c3b651da8029",
   "metadata": {},
   "outputs": [
    {
     "data": {
      "text/plain": [
       "'from flask import Flask\\n\\napp = Flask(__name__)\\n\\n@app.route(\"/\")\\ndef hello_world():\\n    return \"Hello, World!\"\\n\\nif __name__ == \"__main__\":\\n    app.run(debug=True)'"
      ]
     },
     "execution_count": 80,
     "metadata": {},
     "output_type": "execute_result"
    }
   ],
   "source": [
    "#39.How would you create a basic Flask route that displays \"Hello, World!\" on the homepage?\n",
    "'''from flask import Flask\n",
    "\n",
    "app = Flask(__name__)\n",
    "\n",
    "@app.route(\"/\")\n",
    "def hello_world():\n",
    "    return \"Hello, World!\"\n",
    "\n",
    "if __name__ == \"__main__\":\n",
    "    app.run(debug=True)'''"
   ]
  },
  {
   "cell_type": "code",
   "execution_count": 92,
   "id": "45ee5032-215c-4ce9-9cff-cffe408cf5aa",
   "metadata": {},
   "outputs": [
    {
     "data": {
      "text/plain": [
       "'Create an HTML form\\nCreate a Flask route for handling the submission\\nProcess the form data'"
      ]
     },
     "execution_count": 92,
     "metadata": {},
     "output_type": "execute_result"
    }
   ],
   "source": [
    "'''40.Explain how to set up a Flask application to handle form submissions using POST requests. '''\n",
    "'''Create an HTML form\n",
    "Create a Flask route for handling the submission\n",
    "Process the form data'''"
   ]
  },
  {
   "cell_type": "code",
   "execution_count": 93,
   "id": "ed6cadfe-6a5b-4de1-8ebb-ceb9abf5daa1",
   "metadata": {},
   "outputs": [
    {
     "data": {
      "text/plain": [
       "'from flask import Flask, render_template, request\\n\\napp = Flask(__name__)\\n\\n@app.route(\"/show/<parameter>\")\\ndef show_parameter(parameter):\\n    return f\"You entered: {parameter}\"\\n\\nif __name__ == \"__main__\":\\n    app.run(debug=True)'"
      ]
     },
     "execution_count": 93,
     "metadata": {},
     "output_type": "execute_result"
    }
   ],
   "source": [
    "'''41.Write a Flask route that accepts a parameter in the URL and displays it on the page. '''\n",
    "# app.py\n",
    "'''from flask import Flask, render_template, request\n",
    "\n",
    "app = Flask(__name__)\n",
    "\n",
    "@app.route(\"/show/<parameter>\")\n",
    "def show_parameter(parameter):\n",
    "    return f\"You entered: {parameter}\"\n",
    "\n",
    "if __name__ == \"__main__\":\n",
    "    app.run(debug=True)'''"
   ]
  },
  {
   "cell_type": "code",
   "execution_count": 94,
   "id": "7cac2034-55d1-4599-a7ab-f01808c3d474",
   "metadata": {},
   "outputs": [
    {
     "data": {
      "text/plain": [
       "'Install Flask-Login: pip install Flask-Login\\nCreate user models: Define models to represent users and their credentials (password hashing).\\nConfigure Flask-Login: Set up sessions and user loaders.\\nImplement login and logout routes: Handle login forms with password verification and session management for logged-in users.\\nProtect routes: Use decorators (e.g., @login_required) to restrict access to routes for authenticated users.'"
      ]
     },
     "execution_count": 94,
     "metadata": {},
     "output_type": "execute_result"
    }
   ],
   "source": [
    "'''42.How can you implement user authentication in a Flask application? '''\n",
    "'''Install Flask-Login: pip install Flask-Login\n",
    "Create user models: Define models to represent users and their credentials (password hashing).\n",
    "Configure Flask-Login: Set up sessions and user loaders.\n",
    "Implement login and logout routes: Handle login forms with password verification and session management for logged-in users.\n",
    "Protect routes: Use decorators (e.g., @login_required) to restrict access to routes for authenticated users.'''"
   ]
  },
  {
   "cell_type": "code",
   "execution_count": 95,
   "id": "7764aa10-6942-419b-8e20-e2ecb09bdccd",
   "metadata": {},
   "outputs": [
    {
     "data": {
      "text/plain": [
       "\"Install SQLAlchemy: pip install SQLAlchemy\\nDefine database models: Create classes representing your database tables and their relationships.\\nConfigure SQLAlchemy: Set up a connection to your SQLite database.\\nCreate and manage database tables: Use SQLAlchemy's functions to create tables (if necessary) and interact with data (CRUD operations).\""
      ]
     },
     "execution_count": 95,
     "metadata": {},
     "output_type": "execute_result"
    }
   ],
   "source": [
    "'''43.Describe the process of connecting a Flask app to a SQLite database using SQLAlchemy.''' \n",
    "'''Install SQLAlchemy: pip install SQLAlchemy\n",
    "Define database models: Create classes representing your database tables and their relationships.\n",
    "Configure SQLAlchemy: Set up a connection to your SQLite database.\n",
    "Create and manage database tables: Use SQLAlchemy's functions to create tables (if necessary) and interact with data (CRUD operations).'''"
   ]
  },
  {
   "cell_type": "code",
   "execution_count": 96,
   "id": "92d3e644-8d43-4e97-9922-4583a2a0fb24",
   "metadata": {},
   "outputs": [
    {
     "data": {
      "text/plain": [
       "'from flask import Flask, jsonify\\nfrom flask_restful import Resource, Api\\n\\napp = Flask(__name__)\\napi = Api(app)\\n\\nclass MyEndpoint(Resource):\\n    def get(self):\\n        data = {\\n            \"message\": \"Hello from your Flask API!\"\\n        }\\n        return jsonify(data)\\n\\napi.add_resource(MyEndpoint, \\'/api/v1/data\\')\\n\\nif __name__ == \\'__main__\\':\\n    app.run(debug=True)'"
      ]
     },
     "execution_count": 96,
     "metadata": {},
     "output_type": "execute_result"
    }
   ],
   "source": [
    "'''44.How would you create a RESTful API endpoint in Flask that returns JSON data? '''\n",
    "'''from flask import Flask, jsonify\n",
    "from flask_restful import Resource, Api\n",
    "\n",
    "app = Flask(__name__)\n",
    "api = Api(app)\n",
    "\n",
    "class MyEndpoint(Resource):\n",
    "    def get(self):\n",
    "        data = {\n",
    "            \"message\": \"Hello from your Flask API!\"\n",
    "        }\n",
    "        return jsonify(data)\n",
    "\n",
    "api.add_resource(MyEndpoint, '/api/v1/data')\n",
    "\n",
    "if __name__ == '__main__':\n",
    "    app.run(debug=True)'''"
   ]
  },
  {
   "cell_type": "code",
   "execution_count": 87,
   "id": "362d04d7-1e04-49be-bf69-d56557007ebf",
   "metadata": {},
   "outputs": [
    {
     "data": {
      "text/plain": [
       "'45.Explain how to use Flask-WTF to create and validate forms in a Flask application. '"
      ]
     },
     "execution_count": 87,
     "metadata": {},
     "output_type": "execute_result"
    }
   ],
   "source": [
    "'''45.Explain how to use Flask-WTF to create and validate forms in a Flask application. '''\n"
   ]
  },
  {
   "cell_type": "code",
   "execution_count": 88,
   "id": "c48b3a19-5050-47cf-9dc8-44adb9df5b1c",
   "metadata": {},
   "outputs": [
    {
     "data": {
      "text/plain": [
       "'46.How can you implement file uploads in a Flask application? '"
      ]
     },
     "execution_count": 88,
     "metadata": {},
     "output_type": "execute_result"
    }
   ],
   "source": [
    "'''46.How can you implement file uploads in a Flask application? '''\n",
    "1. HTML Form:\n",
    "2. Flask Route and Validation:\n",
    "3. Configuration:\n",
    "4. Security Considerations:\n"
   ]
  },
  {
   "cell_type": "code",
   "execution_count": 97,
   "id": "3fd76b5a-1484-4dfc-ad6a-1cc0153632ef",
   "metadata": {},
   "outputs": [
    {
     "ename": "SyntaxError",
     "evalue": "invalid syntax (1124497163.py, line 2)",
     "output_type": "error",
     "traceback": [
      "\u001b[1;36m  Cell \u001b[1;32mIn[97], line 2\u001b[1;36m\u001b[0m\n\u001b[1;33m    Create a Blueprint:\u001b[0m\n\u001b[1;37m           ^\u001b[0m\n\u001b[1;31mSyntaxError\u001b[0m\u001b[1;31m:\u001b[0m invalid syntax\n"
     ]
    }
   ],
   "source": [
    "'''47.Describe the steps to create a Flask blueprint and why you might use one.''' \n",
    "Create a Blueprint:\n",
    "Define Routes:\n",
    "Register with Main App:\n"
   ]
  },
  {
   "cell_type": "code",
   "execution_count": 98,
   "id": "7287fb7b-cfbe-4e6d-8690-2749f4c96374",
   "metadata": {},
   "outputs": [
    {
     "ename": "SyntaxError",
     "evalue": "invalid syntax (542737314.py, line 2)",
     "output_type": "error",
     "traceback": [
      "\u001b[1;36m  Cell \u001b[1;32mIn[98], line 2\u001b[1;36m\u001b[0m\n\u001b[1;33m    Install Gunicorn\u001b[0m\n\u001b[1;37m            ^\u001b[0m\n\u001b[1;31mSyntaxError\u001b[0m\u001b[1;31m:\u001b[0m invalid syntax\n"
     ]
    }
   ],
   "source": [
    "'''48.How would you deploy a Flask application to a production server using Gunicorn and Nginx? '''\n",
    "Install Gunicorn\n",
    "Create a Gunicorn Config File\n",
    "Create an Nginx Server Block"
   ]
  },
  {
   "cell_type": "code",
   "execution_count": 91,
   "id": "1e5dff84-b930-4af3-8bf0-5753a69d553b",
   "metadata": {},
   "outputs": [
    {
     "data": {
      "text/plain": [
       "'49. Make a fully functional web application using flask, Mangodb. Signup,Signin page.And after successfully login.Say hello Geeks message at webpage. '"
      ]
     },
     "execution_count": 91,
     "metadata": {},
     "output_type": "execute_result"
    }
   ],
   "source": [
    "'''49. Make a fully functional web application using flask, Mangodb. Signup,Signin page.And after successfully login.Say hello Geeks message at webpage. '''"
   ]
  },
  {
   "cell_type": "code",
   "execution_count": 99,
   "id": "34dd318b-3c47-411c-b7d0-713d47687471",
   "metadata": {},
   "outputs": [
    {
     "ename": "SyntaxError",
     "evalue": "incomplete input (3429312886.py, line 1)",
     "output_type": "error",
     "traceback": [
      "\u001b[1;36m  Cell \u001b[1;32mIn[99], line 1\u001b[1;36m\u001b[0m\n\u001b[1;33m    '''@app.route('/signup', methods=['GET', 'POST'])\u001b[0m\n\u001b[1;37m    ^\u001b[0m\n\u001b[1;31mSyntaxError\u001b[0m\u001b[1;31m:\u001b[0m incomplete input\n"
     ]
    }
   ],
   "source": [
    "'''@app.route('/signup', methods=['GET', 'POST'])\n",
    "def signup():\n",
    "    form = SignupForm()\n",
    "    if form.validate_on_submit():\n",
    "        # Check if username already exists\n",
    "        existing_user = users_collection.find_one({'username': form.username.data})\n",
    "        if existing_user:\n",
    "            flash('Username already exists')\n",
    "            return redirect(url_for('signup'))\n",
    "\n",
    "        # Hash the password and create a new user\n",
    "        hashed_password = bcrypt.generate_password_hash(form.password.data).decode('utf-8')\n",
    "        user = {'username': form.username.data, 'password': hashed_password}\n",
    "        users_collection.insert_one(user)\n",
    "        flash('Signup successful!')\n",
    "        return redirect(url_for('signin'))\n",
    "    return render_template('signup.html', form=form)\n",
    "\n",
    "@app.route('/signin', methods=['GET', 'POST'])\n",
    "def signin():\n",
    "    form = SigninForm()\n",
    "    if form.validate_on_submit():\n",
    "        user = users_collection.find_one({'username': form.username.data})\n",
    "        if user and bcrypt.check_password_hash(user['password'], form.password.data):\n",
    "            # Successful login, redirect to protected page\n",
    "            return redirect(url_for('hello'))\n",
    "        else:\n",
    "            flash('Invalid username or password')\n",
    "    return render_template('signin.html', form=form)\n",
    "\n",
    "@app.route('/hello')\n",
    "def hello():\n",
    "    return render_template('hello.html')"
   ]
  },
  {
   "cell_type": "code",
   "execution_count": null,
   "id": "96b747f4-b67b-41df-882c-4cebc0237e75",
   "metadata": {},
   "outputs": [],
   "source": []
  }
 ],
 "metadata": {
  "kernelspec": {
   "display_name": "Python 3 (ipykernel)",
   "language": "python",
   "name": "python3"
  },
  "language_info": {
   "codemirror_mode": {
    "name": "ipython",
    "version": 3
   },
   "file_extension": ".py",
   "mimetype": "text/x-python",
   "name": "python",
   "nbconvert_exporter": "python",
   "pygments_lexer": "ipython3",
   "version": "3.12.4"
  }
 },
 "nbformat": 4,
 "nbformat_minor": 5
}
